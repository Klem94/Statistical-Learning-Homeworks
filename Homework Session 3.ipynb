{
 "cells": [
  {
   "cell_type": "markdown",
   "metadata": {},
   "source": [
    "### Name : Bannem Anatol Clement Junior"
   ]
  },
  {
   "cell_type": "markdown",
   "metadata": {},
   "source": [
    "# Exercice 8 (Chapter 5)"
   ]
  },
  {
   "cell_type": "code",
   "execution_count": 1,
   "metadata": {},
   "outputs": [],
   "source": [
    "# 8.a\n",
    "\n",
    "set.seed(1)\n",
    "x = rnorm(100)\n",
    "y = x - 2 * x^2 + rnorm(100)"
   ]
  },
  {
   "cell_type": "code",
   "execution_count": 2,
   "metadata": {},
   "outputs": [
    {
     "data": {
      "image/png": "[encoded data removed]",
      "text/plain": [
       "plot without title"
      ]
     },
     "metadata": {},
     "output_type": "display_data"
    }
   ],
   "source": [
    "# 8.b\n",
    "\n",
    "plot(x, y)"
   ]
  },
  {
   "cell_type": "markdown",
   "metadata": {},
   "source": [
    "##### We can observe that on the x axis, the values are from -2 to 2 and on the y axis the values are from -8 to 2"
   ]
  },
  {
   "cell_type": "code",
   "execution_count": 3,
   "metadata": {},
   "outputs": [],
   "source": [
    "# 8.c\n",
    "\n",
    "library(boot)"
   ]
  },
  {
   "cell_type": "code",
   "execution_count": 4,
   "metadata": {},
   "outputs": [],
   "source": [
    "Data = data.frame(x, y)\n",
    "set.seed(1)"
   ]
  },
  {
   "cell_type": "code",
   "execution_count": 5,
   "metadata": {},
   "outputs": [
    {
     "data": {
      "text/html": [
       "<ol class=list-inline>\n",
       "\t<li>7.28816160667281</li>\n",
       "\t<li>7.28474411546929</li>\n",
       "</ol>\n"
      ],
      "text/latex": [
       "\\begin{enumerate*}\n",
       "\\item 7.28816160667281\n",
       "\\item 7.28474411546929\n",
       "\\end{enumerate*}\n"
      ],
      "text/markdown": [
       "1. 7.28816160667281\n",
       "2. 7.28474411546929\n",
       "\n",
       "\n"
      ],
      "text/plain": [
       "[1] 7.288162 7.284744"
      ]
     },
     "metadata": {},
     "output_type": "display_data"
    }
   ],
   "source": [
    "# i.\n",
    "glm.fit = glm(y ~ x)\n",
    "cv.glm(Data, glm.fit)$delta"
   ]
  },
  {
   "cell_type": "code",
   "execution_count": 6,
   "metadata": {},
   "outputs": [
    {
     "data": {
      "text/html": [
       "<ol class=list-inline>\n",
       "\t<li>0.937423637615552</li>\n",
       "\t<li>0.937178917181123</li>\n",
       "</ol>\n"
      ],
      "text/latex": [
       "\\begin{enumerate*}\n",
       "\\item 0.937423637615552\n",
       "\\item 0.937178917181123\n",
       "\\end{enumerate*}\n"
      ],
      "text/markdown": [
       "1. 0.937423637615552\n",
       "2. 0.937178917181123\n",
       "\n",
       "\n"
      ],
      "text/plain": [
       "[1] 0.9374236 0.9371789"
      ]
     },
     "metadata": {},
     "output_type": "display_data"
    }
   ],
   "source": [
    "# ii.\n",
    "glm.fit = glm(y ~ poly(x, 2))\n",
    "cv.glm(Data, glm.fit)$delta"
   ]
  },
  {
   "cell_type": "code",
   "execution_count": 7,
   "metadata": {},
   "outputs": [
    {
     "data": {
      "text/html": [
       "<ol class=list-inline>\n",
       "\t<li>0.956621830108939</li>\n",
       "\t<li>0.956253813731321</li>\n",
       "</ol>\n"
      ],
      "text/latex": [
       "\\begin{enumerate*}\n",
       "\\item 0.956621830108939\n",
       "\\item 0.956253813731321\n",
       "\\end{enumerate*}\n"
      ],
      "text/markdown": [
       "1. 0.956621830108939\n",
       "2. 0.956253813731321\n",
       "\n",
       "\n"
      ],
      "text/plain": [
       "[1] 0.9566218 0.9562538"
      ]
     },
     "metadata": {},
     "output_type": "display_data"
    }
   ],
   "source": [
    "# iii.\n",
    "glm.fit = glm(y ~ poly(x, 3))\n",
    "cv.glm(Data, glm.fit)$delta"
   ]
  },
  {
   "cell_type": "code",
   "execution_count": 8,
   "metadata": {},
   "outputs": [
    {
     "data": {
      "text/html": [
       "<ol class=list-inline>\n",
       "\t<li>0.953904892744804</li>\n",
       "\t<li>0.953445283156601</li>\n",
       "</ol>\n"
      ],
      "text/latex": [
       "\\begin{enumerate*}\n",
       "\\item 0.953904892744804\n",
       "\\item 0.953445283156601\n",
       "\\end{enumerate*}\n"
      ],
      "text/markdown": [
       "1. 0.953904892744804\n",
       "2. 0.953445283156601\n",
       "\n",
       "\n"
      ],
      "text/plain": [
       "[1] 0.9539049 0.9534453"
      ]
     },
     "metadata": {},
     "output_type": "display_data"
    }
   ],
   "source": [
    "# iv.\n",
    "glm.fit = glm(y ~ poly(x, 4))\n",
    "cv.glm(Data, glm.fit)$delta"
   ]
  },
  {
   "cell_type": "code",
   "execution_count": 9,
   "metadata": {},
   "outputs": [
    {
     "data": {
      "text/plain": [
       "\n",
       "Call:\n",
       "glm(formula = y ~ poly(x, 4))\n",
       "\n",
       "Deviance Residuals: \n",
       "    Min       1Q   Median       3Q      Max  \n",
       "-2.0550  -0.6212  -0.1567   0.5952   2.2267  \n",
       "\n",
       "Coefficients:\n",
       "             Estimate Std. Error t value Pr(>|t|)    \n",
       "(Intercept)  -1.55002    0.09591 -16.162  < 2e-16 ***\n",
       "poly(x, 4)1   6.18883    0.95905   6.453 4.59e-09 ***\n",
       "poly(x, 4)2 -23.94830    0.95905 -24.971  < 2e-16 ***\n",
       "poly(x, 4)3   0.26411    0.95905   0.275    0.784    \n",
       "poly(x, 4)4   1.25710    0.95905   1.311    0.193    \n",
       "---\n",
       "Signif. codes:  0 '***' 0.001 '**' 0.01 '*' 0.05 '.' 0.1 ' ' 1\n",
       "\n",
       "(Dispersion parameter for gaussian family taken to be 0.9197797)\n",
       "\n",
       "    Null deviance: 700.852  on 99  degrees of freedom\n",
       "Residual deviance:  87.379  on 95  degrees of freedom\n",
       "AIC: 282.3\n",
       "\n",
       "Number of Fisher Scoring iterations: 2\n"
      ]
     },
     "metadata": {},
     "output_type": "display_data"
    }
   ],
   "source": [
    "# 8.f\n",
    "\n",
    "summary(glm.fit)"
   ]
  },
  {
   "cell_type": "markdown",
   "metadata": {},
   "source": [
    "##### Fitting models show the statistical significance of linear and quadratic terms, which agrees with the conclusions drawn based on the cross validation results"
   ]
  },
  {
   "cell_type": "markdown",
   "metadata": {},
   "source": [
    "# Exercice 1 (Chapter 6)"
   ]
  },
  {
   "cell_type": "markdown",
   "metadata": {},
   "source": [
    "#### a\n",
    "\n",
    "model that has the smallest training RSS is Best Subset. Because the other methods determine models with a path dependency."
   ]
  },
  {
   "cell_type": "markdown",
   "metadata": {},
   "source": [
    "#### b\n",
    "\n",
    "Model that has the smallest test RSS is still Best Subset. Because it considers more models then the other methods"
   ]
  },
  {
   "cell_type": "markdown",
   "metadata": {},
   "source": [
    "#### c\n",
    "\n",
    "True\n",
    "False\n",
    "False\n",
    "False\n",
    "True"
   ]
  },
  {
   "cell_type": "markdown",
   "metadata": {},
   "source": [
    "# Exercice 9 (Chapter 6)"
   ]
  },
  {
   "cell_type": "code",
   "execution_count": 28,
   "metadata": {},
   "outputs": [],
   "source": [
    "# 9.a\n",
    "\n",
    "# Load data\n",
    "\n",
    "library(ISLR)\n",
    "set.seed(1)\n",
    "data(College)\n",
    "# sum(is.na(College))"
   ]
  },
  {
   "cell_type": "code",
   "execution_count": 29,
   "metadata": {},
   "outputs": [
    {
     "name": "stdout",
     "output_type": "stream",
     "text": [
      "'data.frame':\t777 obs. of  18 variables:\n",
      " $ Private    : Factor w/ 2 levels \"No\",\"Yes\": 2 2 2 2 2 2 2 2 2 2 ...\n",
      " $ Apps       : num  1660 2186 1428 417 193 ...\n",
      " $ Accept     : num  1232 1924 1097 349 146 ...\n",
      " $ Enroll     : num  721 512 336 137 55 158 103 489 227 172 ...\n",
      " $ Top10perc  : num  23 16 22 60 16 38 17 37 30 21 ...\n",
      " $ Top25perc  : num  52 29 50 89 44 62 45 68 63 44 ...\n",
      " $ F.Undergrad: num  2885 2683 1036 510 249 ...\n",
      " $ P.Undergrad: num  537 1227 99 63 869 ...\n",
      " $ Outstate   : num  7440 12280 11250 12960 7560 ...\n",
      " $ Room.Board : num  3300 6450 3750 5450 4120 ...\n",
      " $ Books      : num  450 750 400 450 800 500 500 450 300 660 ...\n",
      " $ Personal   : num  2200 1500 1165 875 1500 ...\n",
      " $ PhD        : num  70 29 53 92 76 67 90 89 79 40 ...\n",
      " $ Terminal   : num  78 30 66 97 72 73 93 100 84 41 ...\n",
      " $ S.F.Ratio  : num  18.1 12.2 12.9 7.7 11.9 9.4 11.5 13.7 11.3 11.5 ...\n",
      " $ perc.alumni: num  12 16 30 37 2 11 26 37 23 15 ...\n",
      " $ Expend     : num  7041 10527 8735 19016 10922 ...\n",
      " $ Grad.Rate  : num  60 56 54 59 15 55 63 73 80 52 ...\n"
     ]
    }
   ],
   "source": [
    "# Set to training and test set\n",
    "\n",
    "trainid <- sample(1:nrow(College), nrow(College)/2)\n",
    "train <- College[trainid,]\n",
    "test <- College[-trainid,]\n",
    "str(College)"
   ]
  },
  {
   "cell_type": "code",
   "execution_count": 30,
   "metadata": {},
   "outputs": [
    {
     "data": {
      "text/html": [
       "1135758.31783053"
      ],
      "text/latex": [
       "1135758.31783053"
      ],
      "text/markdown": [
       "1135758.31783053"
      ],
      "text/plain": [
       "[1] 1135758"
      ]
     },
     "metadata": {},
     "output_type": "display_data"
    }
   ],
   "source": [
    "# 9.b\n",
    "\n",
    "# fitting linear model using least squares\n",
    "fit.lm <- lm(Apps~., data=train)\n",
    "pred.lm <- predict(fit.lm, test)\n",
    "(err.lm <- mean((test$Apps - pred.lm)^2))  # test error"
   ]
  },
  {
   "cell_type": "code",
   "execution_count": 14,
   "metadata": {},
   "outputs": [
    {
     "name": "stderr",
     "output_type": "stream",
     "text": [
      "Loading required package: Matrix\n",
      "Loading required package: foreach\n",
      "Warning message:\n",
      "\"package 'foreach' was built under R version 3.6.2\"Loaded glmnet 2.0-16\n",
      "\n"
     ]
    }
   ],
   "source": [
    "# 9.c\n",
    "\n",
    "library(glmnet)"
   ]
  },
  {
   "cell_type": "code",
   "execution_count": 37,
   "metadata": {},
   "outputs": [
    {
     "data": {
      "text/html": [
       "445.409293590868"
      ],
      "text/latex": [
       "445.409293590868"
      ],
      "text/markdown": [
       "445.409293590868"
      ],
      "text/plain": [
       "[1] 445.4093"
      ]
     },
     "metadata": {},
     "output_type": "display_data"
    }
   ],
   "source": [
    "# Fitting the ridge regression model on the training set\n",
    "\n",
    "xmat.train <- model.matrix(Apps~., data=train)[,-1]\n",
    "xmat.test <- model.matrix(Apps~., data=test)[,-1]\n",
    "fit.ridge <- cv.glmnet(xmat.train, train$Apps, alpha=0)\n",
    "(lambda <- fit.ridge$lambda.min)"
   ]
  },
  {
   "cell_type": "code",
   "execution_count": 38,
   "metadata": {},
   "outputs": [
    {
     "data": {
      "text/html": [
       "981782.459077"
      ],
      "text/latex": [
       "981782.459077"
      ],
      "text/markdown": [
       "981782.459077"
      ],
      "text/plain": [
       "[1] 981782.5"
      ]
     },
     "metadata": {},
     "output_type": "display_data"
    }
   ],
   "source": [
    "pred.ridge <- predict(fit.ridge, s=lambda, newx=xmat.test)\n",
    "(err.ridge <- mean((test$Apps - pred.ridge)^2))  # test error"
   ]
  },
  {
   "cell_type": "markdown",
   "metadata": {},
   "source": [
    "#### Test RSS is higher than OLS 981782.46"
   ]
  },
  {
   "cell_type": "code",
   "execution_count": 40,
   "metadata": {},
   "outputs": [
    {
     "data": {
      "text/html": [
       "2.37701543097134"
      ],
      "text/latex": [
       "2.37701543097134"
      ],
      "text/markdown": [
       "2.37701543097134"
      ],
      "text/plain": [
       "[1] 2.377015"
      ]
     },
     "metadata": {},
     "output_type": "display_data"
    }
   ],
   "source": [
    "# 9.d\n",
    "\n",
    "require(glmnet)\n",
    "xmat.train <- model.matrix(Apps~., data=train)[,-1]\n",
    "xmat.test <- model.matrix(Apps~., data=test)[,-1]\n",
    "fit.lasso <- cv.glmnet(xmat.train, train$Apps, alpha=1)\n",
    "(lambda <- fit.lasso$lambda.min)  # optimal lambda"
   ]
  },
  {
   "cell_type": "code",
   "execution_count": 46,
   "metadata": {},
   "outputs": [
    {
     "data": {
      "text/html": [
       "1113027.43469933"
      ],
      "text/latex": [
       "1113027.43469933"
      ],
      "text/markdown": [
       "1113027.43469933"
      ],
      "text/plain": [
       "[1] 1113027"
      ]
     },
     "metadata": {},
     "output_type": "display_data"
    }
   ],
   "source": [
    "pred.lasso <- predict(fit.lasso, s=lambda, newx=xmat.test)\n",
    "(err.lasso <- mean((test$Apps - pred.lasso)^2))  # test error\n",
    "coef.lasso <- predict(fit.lasso, type=\"coefficients\", s=lambda)[1:ncol(College),]"
   ]
  },
  {
   "cell_type": "markdown",
   "metadata": {},
   "source": [
    "#### As we can see here, Test RSS is still higher than OLS 1113027.43"
   ]
  },
  {
   "cell_type": "code",
   "execution_count": 22,
   "metadata": {},
   "outputs": [
    {
     "name": "stderr",
     "output_type": "stream",
     "text": [
      "Installing package into 'C:/Users/abannem/Documents/R/win-library/3.6'\n",
      "(as 'lib' is unspecified)\n"
     ]
    },
    {
     "name": "stdout",
     "output_type": "stream",
     "text": [
      "package 'pls' successfully unpacked and MD5 sums checked\n",
      "\n",
      "The downloaded binary packages are in\n",
      "\tC:\\Users\\abannem\\AppData\\Local\\Temp\\RtmpGoXndL\\downloaded_packages\n"
     ]
    }
   ],
   "source": [
    "# 9.e\n",
    "\n",
    "# Fit the PCR model with the cross-validation\n",
    "install.packages(\"pls\")"
   ]
  },
  {
   "cell_type": "code",
   "execution_count": 23,
   "metadata": {},
   "outputs": [
    {
     "name": "stderr",
     "output_type": "stream",
     "text": [
      "Warning message:\n",
      "\"package 'pls' was built under R version 3.6.2\"\n",
      "Attaching package: 'pls'\n",
      "\n",
      "The following object is masked from 'package:stats':\n",
      "\n",
      "    loadings\n",
      "\n"
     ]
    }
   ],
   "source": [
    "library(pls)"
   ]
  },
  {
   "cell_type": "code",
   "execution_count": 48,
   "metadata": {},
   "outputs": [
    {
     "data": {
      "image/png": "[encoded data removed]",
      "text/plain": [
       "Plot with title \"Apps\""
      ]
     },
     "metadata": {},
     "output_type": "display_data"
    }
   ],
   "source": [
    "set.seed(1)\n",
    "fit.pcr <- pcr(Apps~., data=train, scale=TRUE, validation=\"CV\")\n",
    "validationplot(fit.pcr, val.type=\"MSEP\")"
   ]
  },
  {
   "cell_type": "code",
   "execution_count": 49,
   "metadata": {},
   "outputs": [
    {
     "data": {
      "text/html": [
       "1137876.85851356"
      ],
      "text/latex": [
       "1137876.85851356"
      ],
      "text/markdown": [
       "1137876.85851356"
      ],
      "text/plain": [
       "[1] 1137877"
      ]
     },
     "metadata": {},
     "output_type": "display_data"
    }
   ],
   "source": [
    "pred.pcr <- predict(fit.pcr, test, ncomp=16) # Minimum Cross validation set at M=16\n",
    "(err.pcr <- mean((test$Apps - pred.pcr)^2))"
   ]
  },
  {
   "cell_type": "markdown",
   "metadata": {},
   "source": [
    "#### Test RSS for PCR is about 1137876.86"
   ]
  },
  {
   "cell_type": "code",
   "execution_count": 50,
   "metadata": {},
   "outputs": [
    {
     "data": {
      "image/png": "[encoded data removed]",
      "text/plain": [
       "Plot with title \"Apps\""
      ]
     },
     "metadata": {},
     "output_type": "display_data"
    }
   ],
   "source": [
    "# 9.f\n",
    "\n",
    "# Fit a PLS model on the training with a cross validation\n",
    "set.seed(1)\n",
    "fit.pls <- plsr(Apps~., data=train, scale=TRUE, validation=\"CV\")\n",
    "validationplot(fit.pls, val.type=\"MSEP\")"
   ]
  },
  {
   "cell_type": "code",
   "execution_count": 52,
   "metadata": {},
   "outputs": [
    {
     "data": {
      "text/html": [
       "1131660.81805029"
      ],
      "text/latex": [
       "1131660.81805029"
      ],
      "text/markdown": [
       "1131660.81805029"
      ],
      "text/plain": [
       "[1] 1131661"
      ]
     },
     "metadata": {},
     "output_type": "display_data"
    }
   ],
   "source": [
    "pred.pls <- predict(fit.pls, test, ncomp=10)  # Minimum Cross validation set at M=16\n",
    "(err.pls <- mean((test$Apps - pred.pls)^2))"
   ]
  },
  {
   "cell_type": "markdown",
   "metadata": {},
   "source": [
    "#### Test RSS for PLS is about 1131660.82"
   ]
  },
  {
   "cell_type": "markdown",
   "metadata": {},
   "source": [
    "# Exercise 9 - Chap 7 (Page 299)"
   ]
  },
  {
   "cell_type": "code",
   "execution_count": 1,
   "metadata": {},
   "outputs": [
    {
     "name": "stderr",
     "output_type": "stream",
     "text": [
      "Loading required package: MASS\n"
     ]
    }
   ],
   "source": [
    "# Load Data\n",
    "\n",
    "require(MASS)\n",
    "data(Boston)\n",
    "set.seed(1)"
   ]
  },
  {
   "cell_type": "markdown",
   "metadata": {},
   "source": [
    "#### 9.a"
   ]
  },
  {
   "cell_type": "code",
   "execution_count": 4,
   "metadata": {},
   "outputs": [
    {
     "data": {
      "text/plain": [
       "\n",
       "Call:\n",
       "lm(formula = nox ~ poly(dis, 3), data = Boston)\n",
       "\n",
       "Residuals:\n",
       "      Min        1Q    Median        3Q       Max \n",
       "-0.121130 -0.040619 -0.009738  0.023385  0.194904 \n",
       "\n",
       "Coefficients:\n",
       "               Estimate Std. Error t value Pr(>|t|)    \n",
       "(Intercept)    0.554695   0.002759 201.021  < 2e-16 ***\n",
       "poly(dis, 3)1 -2.003096   0.062071 -32.271  < 2e-16 ***\n",
       "poly(dis, 3)2  0.856330   0.062071  13.796  < 2e-16 ***\n",
       "poly(dis, 3)3 -0.318049   0.062071  -5.124 4.27e-07 ***\n",
       "---\n",
       "Signif. codes:  0 '***' 0.001 '**' 0.01 '*' 0.05 '.' 0.1 ' ' 1\n",
       "\n",
       "Residual standard error: 0.06207 on 502 degrees of freedom\n",
       "Multiple R-squared:  0.7148,\tAdjusted R-squared:  0.7131 \n",
       "F-statistic: 419.3 on 3 and 502 DF,  p-value: < 2.2e-16\n"
      ]
     },
     "metadata": {},
     "output_type": "display_data"
    }
   ],
   "source": [
    "# Fit the cubic polynomial regression\n",
    "\n",
    "fit.03 <- lm(nox~poly(dis,3), data=Boston)\n",
    "summary(fit.03)"
   ]
  },
  {
   "cell_type": "code",
   "execution_count": 5,
   "metadata": {},
   "outputs": [
    {
     "data": {
      "image/png": "[encoded data removed]",
      "text/plain": [
       "Plot with title \"Degree 3 Polynomial Fit\""
      ]
     },
     "metadata": {},
     "output_type": "display_data"
    }
   ],
   "source": [
    "dislims <- range(Boston$dis)\n",
    "dis.grid <- seq(dislims[1], dislims[2], 0.1)\n",
    "preds <- predict(fit.03, newdata=list(dis=dis.grid), se=TRUE)\n",
    "se.bands <- preds$fit + cbind(2*preds$se.fit, -2*preds$se.fit)\n",
    "par(mfrow=c(1,1), mar=c(4.5,4.5,1,1), oma=c(0,0,4,0))\n",
    "plot(Boston$dis, Boston$nox, xlim=dislims, cex=0.5, col=\"darkgrey\")\n",
    "title(\"Degree 3 Polynomial Fit\")\n",
    "lines(dis.grid, preds$fit, lwd=2, col=\"blue\")\n",
    "matlines(dis.grid, se.bands, lwd=1, col=\"blue\", lty=3)"
   ]
  },
  {
   "cell_type": "markdown",
   "metadata": {},
   "source": [
    "#### The Plot shows a smoothed curve fitting the data."
   ]
  },
  {
   "cell_type": "markdown",
   "metadata": {},
   "source": [
    "#### 9.b"
   ]
  },
  {
   "cell_type": "code",
   "execution_count": 7,
   "metadata": {},
   "outputs": [
    {
     "data": {
      "text/html": [
       "<ol class=list-inline>\n",
       "\t<li>2.76856285896928</li>\n",
       "\t<li>2.03526186893526</li>\n",
       "\t<li>1.93410670717907</li>\n",
       "\t<li>1.93298132729859</li>\n",
       "\t<li>1.9152899610843</li>\n",
       "\t<li>1.87825729850816</li>\n",
       "\t<li>1.84948361458298</li>\n",
       "\t<li>1.83562968906769</li>\n",
       "\t<li>1.8333308044916</li>\n",
       "\t<li>1.83217112393135</li>\n",
       "</ol>\n"
      ],
      "text/latex": [
       "\\begin{enumerate*}\n",
       "\\item 2.76856285896928\n",
       "\\item 2.03526186893526\n",
       "\\item 1.93410670717907\n",
       "\\item 1.93298132729859\n",
       "\\item 1.9152899610843\n",
       "\\item 1.87825729850816\n",
       "\\item 1.84948361458298\n",
       "\\item 1.83562968906769\n",
       "\\item 1.8333308044916\n",
       "\\item 1.83217112393135\n",
       "\\end{enumerate*}\n"
      ],
      "text/markdown": [
       "1. 2.76856285896928\n",
       "2. 2.03526186893526\n",
       "3. 1.93410670717907\n",
       "4. 1.93298132729859\n",
       "5. 1.9152899610843\n",
       "6. 1.87825729850816\n",
       "7. 1.84948361458298\n",
       "8. 1.83562968906769\n",
       "9. 1.8333308044916\n",
       "10. 1.83217112393135\n",
       "\n",
       "\n"
      ],
      "text/plain": [
       " [1] 2.768563 2.035262 1.934107 1.932981 1.915290 1.878257 1.849484 1.835630\n",
       " [9] 1.833331 1.832171"
      ]
     },
     "metadata": {},
     "output_type": "display_data"
    }
   ],
   "source": [
    "all.rss = rep(NA, 10)\n",
    "for (i in 1:10) {\n",
    "    fit.03 = lm(nox ~ poly(dis, i), data = Boston)\n",
    "    all.rss[i] = sum(fit.03$residuals^2)\n",
    "}\n",
    "all.rss"
   ]
  },
  {
   "cell_type": "markdown",
   "metadata": {},
   "source": [
    "#### As we can see, we expected the train RSS to decreases with degree of polynomial and it does."
   ]
  },
  {
   "cell_type": "markdown",
   "metadata": {},
   "source": [
    "#### 9.c"
   ]
  },
  {
   "cell_type": "code",
   "execution_count": 8,
   "metadata": {},
   "outputs": [
    {
     "name": "stderr",
     "output_type": "stream",
     "text": [
      "Loading required package: boot\n"
     ]
    }
   ],
   "source": [
    "require (boot)"
   ]
  },
  {
   "cell_type": "code",
   "execution_count": 9,
   "metadata": {},
   "outputs": [
    {
     "data": {
      "text/html": [
       "<ol class=list-inline>\n",
       "\t<li>0.00555826287169151</li>\n",
       "\t<li>0.00408570583474476</li>\n",
       "\t<li>0.0038765214586795</li>\n",
       "\t<li>0.00386334162515342</li>\n",
       "\t<li>0.00423745233580752</li>\n",
       "\t<li>0.00568686228537241</li>\n",
       "\t<li>0.0102788971841026</li>\n",
       "\t<li>0.00681086781472168</li>\n",
       "\t<li>0.0333086067728795</li>\n",
       "\t<li>0.00407559913656767</li>\n",
       "</ol>\n"
      ],
      "text/latex": [
       "\\begin{enumerate*}\n",
       "\\item 0.00555826287169151\n",
       "\\item 0.00408570583474476\n",
       "\\item 0.0038765214586795\n",
       "\\item 0.00386334162515342\n",
       "\\item 0.00423745233580752\n",
       "\\item 0.00568686228537241\n",
       "\\item 0.0102788971841026\n",
       "\\item 0.00681086781472168\n",
       "\\item 0.0333086067728795\n",
       "\\item 0.00407559913656767\n",
       "\\end{enumerate*}\n"
      ],
      "text/markdown": [
       "1. 0.00555826287169151\n",
       "2. 0.00408570583474476\n",
       "3. 0.0038765214586795\n",
       "4. 0.00386334162515342\n",
       "5. 0.00423745233580752\n",
       "6. 0.00568686228537241\n",
       "7. 0.0102788971841026\n",
       "8. 0.00681086781472168\n",
       "9. 0.0333086067728795\n",
       "10. 0.00407559913656767\n",
       "\n",
       "\n"
      ],
      "text/plain": [
       " [1] 0.005558263 0.004085706 0.003876521 0.003863342 0.004237452 0.005686862\n",
       " [7] 0.010278897 0.006810868 0.033308607 0.004075599"
      ]
     },
     "metadata": {},
     "output_type": "display_data"
    },
    {
     "data": {
      "image/png": "[encoded data removed]",
      "text/plain": [
       "plot without title"
      ]
     },
     "metadata": {},
     "output_type": "display_data"
    }
   ],
   "source": [
    "set.seed(1)\n",
    "cv.error <- rep(0,10)\n",
    "for (i in 1:10) {\n",
    "  glm.fit <- glm(nox~poly(dis,i), data=Boston)\n",
    "  cv.error[i] <- cv.glm(Boston, glm.fit, K=10)$delta[1]  # [1]:std, [2]:bias-corrected\n",
    "}\n",
    "cv.error\n",
    "plot(cv.error, type=\"b\")"
   ]
  },
  {
   "cell_type": "markdown",
   "metadata": {},
   "source": [
    "# Exercise 10 - Chap 7 (Page 300)"
   ]
  },
  {
   "cell_type": "markdown",
   "metadata": {},
   "source": [
    "#### 10.a"
   ]
  },
  {
   "cell_type": "code",
   "execution_count": 12,
   "metadata": {},
   "outputs": [
    {
     "name": "stderr",
     "output_type": "stream",
     "text": [
      "Loading required package: leaps\n",
      "Warning message:\n",
      "\"package 'leaps' was built under R version 3.6.2\""
     ]
    }
   ],
   "source": [
    "require(ISLR)\n",
    "require(\"leaps\")\n",
    "data(College)\n",
    "set.seed(1)"
   ]
  },
  {
   "cell_type": "code",
   "execution_count": 13,
   "metadata": {},
   "outputs": [],
   "source": [
    "# split data into train and test sets\n",
    "trainid <- sample(1:nrow(College), nrow(College)/2)\n",
    "train <- College[trainid,]\n",
    "test <- College[-trainid,]"
   ]
  },
  {
   "cell_type": "code",
   "execution_count": 15,
   "metadata": {},
   "outputs": [],
   "source": [
    "predict.regsubsets <- function(object, newdata, id, ...){\n",
    "  form <- as.formula(object$call[[2]])\n",
    "  mat <- model.matrix(form, newdata)\n",
    "  coefi <- coef(object, id=id)\n",
    "  xvars <- names(coefi)\n",
    "  mat[,xvars]%*%coefi\n",
    "}"
   ]
  },
  {
   "cell_type": "code",
   "execution_count": 16,
   "metadata": {},
   "outputs": [
    {
     "data": {
      "text/plain": [
       "Subset selection object\n",
       "Call: regsubsets.formula(Outstate ~ ., data = train, nvmax = ncol(College) - \n",
       "    1)\n",
       "17 Variables  (and intercept)\n",
       "            Forced in Forced out\n",
       "PrivateYes      FALSE      FALSE\n",
       "Apps            FALSE      FALSE\n",
       "Accept          FALSE      FALSE\n",
       "Enroll          FALSE      FALSE\n",
       "Top10perc       FALSE      FALSE\n",
       "Top25perc       FALSE      FALSE\n",
       "F.Undergrad     FALSE      FALSE\n",
       "P.Undergrad     FALSE      FALSE\n",
       "Room.Board      FALSE      FALSE\n",
       "Books           FALSE      FALSE\n",
       "Personal        FALSE      FALSE\n",
       "PhD             FALSE      FALSE\n",
       "Terminal        FALSE      FALSE\n",
       "S.F.Ratio       FALSE      FALSE\n",
       "perc.alumni     FALSE      FALSE\n",
       "Expend          FALSE      FALSE\n",
       "Grad.Rate       FALSE      FALSE\n",
       "1 subsets of each size up to 17\n",
       "Selection Algorithm: exhaustive\n",
       "          PrivateYes Apps Accept Enroll Top10perc Top25perc F.Undergrad\n",
       "1  ( 1 )  \" \"        \" \"  \" \"    \" \"    \" \"       \" \"       \" \"        \n",
       "2  ( 1 )  \" \"        \" \"  \" \"    \" \"    \" \"       \" \"       \" \"        \n",
       "3  ( 1 )  \"*\"        \" \"  \" \"    \" \"    \" \"       \" \"       \" \"        \n",
       "4  ( 1 )  \"*\"        \" \"  \" \"    \" \"    \" \"       \" \"       \" \"        \n",
       "5  ( 1 )  \"*\"        \" \"  \" \"    \" \"    \" \"       \" \"       \" \"        \n",
       "6  ( 1 )  \"*\"        \" \"  \" \"    \" \"    \" \"       \" \"       \" \"        \n",
       "7  ( 1 )  \"*\"        \" \"  \" \"    \" \"    \" \"       \" \"       \" \"        \n",
       "8  ( 1 )  \"*\"        \" \"  \" \"    \" \"    \"*\"       \" \"       \" \"        \n",
       "9  ( 1 )  \"*\"        \"*\"  \"*\"    \"*\"    \"*\"       \" \"       \" \"        \n",
       "10  ( 1 ) \"*\"        \"*\"  \"*\"    \"*\"    \"*\"       \" \"       \" \"        \n",
       "11  ( 1 ) \"*\"        \"*\"  \"*\"    \"*\"    \"*\"       \" \"       \" \"        \n",
       "12  ( 1 ) \"*\"        \"*\"  \"*\"    \"*\"    \"*\"       \"*\"       \" \"        \n",
       "13  ( 1 ) \"*\"        \"*\"  \"*\"    \"*\"    \"*\"       \"*\"       \" \"        \n",
       "14  ( 1 ) \"*\"        \"*\"  \"*\"    \"*\"    \"*\"       \"*\"       \" \"        \n",
       "15  ( 1 ) \"*\"        \"*\"  \"*\"    \"*\"    \"*\"       \"*\"       \" \"        \n",
       "16  ( 1 ) \"*\"        \"*\"  \"*\"    \"*\"    \"*\"       \"*\"       \"*\"        \n",
       "17  ( 1 ) \"*\"        \"*\"  \"*\"    \"*\"    \"*\"       \"*\"       \"*\"        \n",
       "          P.Undergrad Room.Board Books Personal PhD Terminal S.F.Ratio\n",
       "1  ( 1 )  \" \"         \"*\"        \" \"   \" \"      \" \" \" \"      \" \"      \n",
       "2  ( 1 )  \" \"         \"*\"        \" \"   \" \"      \" \" \" \"      \" \"      \n",
       "3  ( 1 )  \" \"         \"*\"        \" \"   \" \"      \" \" \" \"      \" \"      \n",
       "4  ( 1 )  \" \"         \"*\"        \" \"   \" \"      \" \" \" \"      \" \"      \n",
       "5  ( 1 )  \" \"         \"*\"        \" \"   \" \"      \" \" \" \"      \" \"      \n",
       "6  ( 1 )  \" \"         \"*\"        \" \"   \" \"      \" \" \"*\"      \" \"      \n",
       "7  ( 1 )  \" \"         \"*\"        \" \"   \"*\"      \" \" \"*\"      \" \"      \n",
       "8  ( 1 )  \" \"         \"*\"        \" \"   \"*\"      \" \" \"*\"      \" \"      \n",
       "9  ( 1 )  \" \"         \"*\"        \" \"   \" \"      \" \" \" \"      \" \"      \n",
       "10  ( 1 ) \" \"         \"*\"        \" \"   \" \"      \" \" \"*\"      \" \"      \n",
       "11  ( 1 ) \" \"         \"*\"        \" \"   \"*\"      \" \" \"*\"      \" \"      \n",
       "12  ( 1 ) \" \"         \"*\"        \" \"   \"*\"      \" \" \"*\"      \" \"      \n",
       "13  ( 1 ) \" \"         \"*\"        \" \"   \"*\"      \" \" \"*\"      \"*\"      \n",
       "14  ( 1 ) \" \"         \"*\"        \"*\"   \"*\"      \" \" \"*\"      \"*\"      \n",
       "15  ( 1 ) \"*\"         \"*\"        \"*\"   \"*\"      \" \" \"*\"      \"*\"      \n",
       "16  ( 1 ) \"*\"         \"*\"        \"*\"   \"*\"      \" \" \"*\"      \"*\"      \n",
       "17  ( 1 ) \"*\"         \"*\"        \"*\"   \"*\"      \"*\" \"*\"      \"*\"      \n",
       "          perc.alumni Expend Grad.Rate\n",
       "1  ( 1 )  \" \"         \" \"    \" \"      \n",
       "2  ( 1 )  \"*\"         \" \"    \" \"      \n",
       "3  ( 1 )  \" \"         \"*\"    \" \"      \n",
       "4  ( 1 )  \"*\"         \"*\"    \" \"      \n",
       "5  ( 1 )  \"*\"         \"*\"    \"*\"      \n",
       "6  ( 1 )  \"*\"         \"*\"    \"*\"      \n",
       "7  ( 1 )  \"*\"         \"*\"    \"*\"      \n",
       "8  ( 1 )  \"*\"         \"*\"    \"*\"      \n",
       "9  ( 1 )  \"*\"         \"*\"    \"*\"      \n",
       "10  ( 1 ) \"*\"         \"*\"    \"*\"      \n",
       "11  ( 1 ) \"*\"         \"*\"    \"*\"      \n",
       "12  ( 1 ) \"*\"         \"*\"    \"*\"      \n",
       "13  ( 1 ) \"*\"         \"*\"    \"*\"      \n",
       "14  ( 1 ) \"*\"         \"*\"    \"*\"      \n",
       "15  ( 1 ) \"*\"         \"*\"    \"*\"      \n",
       "16  ( 1 ) \"*\"         \"*\"    \"*\"      \n",
       "17  ( 1 ) \"*\"         \"*\"    \"*\"      "
      ]
     },
     "metadata": {},
     "output_type": "display_data"
    },
    {
     "data": {
      "text/html": [
       "<dl class=dl-horizontal>\n",
       "\t<dt>(Intercept)</dt>\n",
       "\t\t<dd>-4726.88106133339</dd>\n",
       "\t<dt>PrivateYes</dt>\n",
       "\t\t<dd>2717.70192759516</dd>\n",
       "\t<dt>Room.Board</dt>\n",
       "\t\t<dd>1.1032432595558</dd>\n",
       "\t<dt>Terminal</dt>\n",
       "\t\t<dd>36.9990285647279</dd>\n",
       "\t<dt>perc.alumni</dt>\n",
       "\t\t<dd>59.0863752524204</dd>\n",
       "\t<dt>Expend</dt>\n",
       "\t\t<dd>0.193081397433261</dd>\n",
       "\t<dt>Grad.Rate</dt>\n",
       "\t\t<dd>33.8303314152395</dd>\n",
       "</dl>\n"
      ],
      "text/latex": [
       "\\begin{description*}\n",
       "\\item[(Intercept)] -4726.88106133339\n",
       "\\item[PrivateYes] 2717.70192759516\n",
       "\\item[Room.Board] 1.1032432595558\n",
       "\\item[Terminal] 36.9990285647279\n",
       "\\item[perc.alumni] 59.0863752524204\n",
       "\\item[Expend] 0.193081397433261\n",
       "\\item[Grad.Rate] 33.8303314152395\n",
       "\\end{description*}\n"
      ],
      "text/markdown": [
       "(Intercept)\n",
       ":   -4726.88106133339PrivateYes\n",
       ":   2717.70192759516Room.Board\n",
       ":   1.1032432595558Terminal\n",
       ":   36.9990285647279perc.alumni\n",
       ":   59.0863752524204Expend\n",
       ":   0.193081397433261Grad.Rate\n",
       ":   33.8303314152395\n",
       "\n"
      ],
      "text/plain": [
       "  (Intercept)    PrivateYes    Room.Board      Terminal   perc.alumni \n",
       "-4726.8810613  2717.7019276     1.1032433    36.9990286    59.0863753 \n",
       "       Expend     Grad.Rate \n",
       "    0.1930814    33.8303314 "
      ]
     },
     "metadata": {},
     "output_type": "display_data"
    },
    {
     "data": {
      "image/png": "[encoded data removed]",
      "text/plain": [
       "Plot with title \"bic\""
      ]
     },
     "metadata": {},
     "output_type": "display_data"
    }
   ],
   "source": [
    "# forward selection\n",
    "fit.fwd <- regsubsets(Outstate~., data=train, nvmax=ncol(College)-1)\n",
    "(fwd.summary <- summary(fit.fwd))\n",
    "err.fwd <- rep(NA, ncol(College)-1)\n",
    "for(i in 1:(ncol(College)-1)) {\n",
    "  pred.fwd <- predict(fit.fwd, test, id=i)\n",
    "  err.fwd[i] <- mean((test$Outstate - pred.fwd)^2)\n",
    "}\n",
    "par(mfrow=c(2,2))\n",
    "plot(err.fwd, type=\"b\", main=\"Test MSE\", xlab=\"Number of Predictors\")\n",
    "min.mse <- which.min(err.fwd)  \n",
    "points(min.mse, err.fwd[min.mse], col=\"red\", pch=4, lwd=5)\n",
    "plot(fwd.summary$adjr2, type=\"b\", main=\"Adjusted R^2\", xlab=\"Number of Predictors\")\n",
    "max.adjr2 <- which.max(fwd.summary$adjr2)  \n",
    "points(max.adjr2, fwd.summary$adjr2[max.adjr2], col=\"red\", pch=4, lwd=5)\n",
    "plot(fwd.summary$cp, type=\"b\", main=\"cp\", xlab=\"Number of Predictors\")\n",
    "min.cp <- which.min(fwd.summary$cp)  \n",
    "points(min.cp, fwd.summary$cp[min.cp], col=\"red\", pch=4, lwd=5)\n",
    "plot(fwd.summary$bic, type=\"b\", main=\"bic\", xlab=\"Number of Predictors\")\n",
    "min.bic <- which.min(fwd.summary$bic)  \n",
    "points(min.bic, fwd.summary$bic[min.bic], col=\"red\", pch=4, lwd=5)\n",
    "\n",
    "# after 6 predictors, the model metrics are steady\n",
    "coef(fit.fwd, 6)"
   ]
  },
  {
   "cell_type": "markdown",
   "metadata": {},
   "source": [
    "#### 10.b"
   ]
  },
  {
   "cell_type": "code",
   "execution_count": 19,
   "metadata": {},
   "outputs": [
    {
     "name": "stderr",
     "output_type": "stream",
     "text": [
      "Installing package into 'C:/Users/abannem/Documents/R/win-library/3.6'\n",
      "(as 'lib' is unspecified)\n"
     ]
    },
    {
     "name": "stdout",
     "output_type": "stream",
     "text": [
      "package 'gam' successfully unpacked and MD5 sums checked\n",
      "\n",
      "The downloaded binary packages are in\n",
      "\tC:\\Users\\abannem\\AppData\\Local\\Temp\\Rtmp0UWpJv\\downloaded_packages\n"
     ]
    },
    {
     "name": "stderr",
     "output_type": "stream",
     "text": [
      "Warning message:\n",
      "\"package 'gam' was built under R version 3.6.2\"Loading required package: splines\n",
      "Loading required package: foreach\n",
      "Warning message:\n",
      "\"package 'foreach' was built under R version 3.6.2\"Loaded gam 1.16.1\n",
      "\n"
     ]
    }
   ],
   "source": [
    "install.packages(\"gam\")\n",
    "library(gam)"
   ]
  },
  {
   "cell_type": "code",
   "execution_count": 20,
   "metadata": {},
   "outputs": [
    {
     "name": "stderr",
     "output_type": "stream",
     "text": [
      "Warning message in model.matrix.default(mt, mf, contrasts):\n",
      "\"non-list contrasts argument ignored\""
     ]
    },
    {
     "data": {
      "image/png": "[encoded data removed]",
      "text/plain": [
       "plot without title"
      ]
     },
     "metadata": {},
     "output_type": "display_data"
    }
   ],
   "source": [
    "gam.fit <- gam(Outstate ~ \n",
    "                 Private +\n",
    "                 s(Room.Board,3) + \n",
    "                 s(Terminal,3) + \n",
    "                 s(perc.alumni,3) + \n",
    "                 s(Expend,3) + \n",
    "                 s(Grad.Rate,3), \n",
    "               data=College)\n",
    "par(mfrow=c(2,3))\n",
    "plot(gam.fit, se=TRUE, col=\"blue\")"
   ]
  },
  {
   "cell_type": "markdown",
   "metadata": {},
   "source": [
    "#### 10.c"
   ]
  },
  {
   "cell_type": "code",
   "execution_count": 22,
   "metadata": {},
   "outputs": [
    {
     "data": {
      "text/html": [
       "3141784.83135763"
      ],
      "text/latex": [
       "3141784.83135763"
      ],
      "text/markdown": [
       "3141784.83135763"
      ],
      "text/plain": [
       "[1] 3141785"
      ]
     },
     "metadata": {},
     "output_type": "display_data"
    }
   ],
   "source": [
    "gam.pred = predict(gam.fit, test)\n",
    "gam.err = mean((test$Outstate - gam.pred)^2)\n",
    "gam.err"
   ]
  },
  {
   "cell_type": "code",
   "execution_count": 23,
   "metadata": {},
   "outputs": [
    {
     "data": {
      "text/html": [
       "0.780498991572953"
      ],
      "text/latex": [
       "0.780498991572953"
      ],
      "text/markdown": [
       "0.780498991572953"
      ],
      "text/plain": [
       "[1] 0.780499"
      ]
     },
     "metadata": {},
     "output_type": "display_data"
    }
   ],
   "source": [
    "gam.tss = mean((test$Outstate - mean(test$Outstate))^2)\n",
    "test.rss = 1 - gam.err/gam.tss\n",
    "test.rss"
   ]
  },
  {
   "cell_type": "markdown",
   "metadata": {},
   "source": [
    "#### We can see that the R-squared of 0.78 using GAM with 6 predictors."
   ]
  },
  {
   "cell_type": "markdown",
   "metadata": {},
   "source": [
    "#### 10.d"
   ]
  },
  {
   "cell_type": "code",
   "execution_count": 24,
   "metadata": {},
   "outputs": [
    {
     "data": {
      "text/plain": [
       "\n",
       "Call: gam(formula = Outstate ~ Private + s(Room.Board, 3) + s(Terminal, \n",
       "    3) + s(perc.alumni, 3) + s(Expend, 3) + s(Grad.Rate, 3), \n",
       "    data = College)\n",
       "Deviance Residuals:\n",
       "     Min       1Q   Median       3Q      Max \n",
       "-7110.16 -1137.02    50.44  1285.38  8278.86 \n",
       "\n",
       "(Dispersion Parameter for gaussian family taken to be 3520187)\n",
       "\n",
       "    Null Deviance: 12559297426 on 776 degrees of freedom\n",
       "Residual Deviance: 2675342725 on 760.0001 degrees of freedom\n",
       "AIC: 13936.36 \n",
       "\n",
       "Number of Local Scoring Iterations: 2 \n",
       "\n",
       "Anova for Parametric Effects\n",
       "                   Df     Sum Sq    Mean Sq F value    Pr(>F)    \n",
       "Private             1 3366732308 3366732308 956.407 < 2.2e-16 ***\n",
       "s(Room.Board, 3)    1 2549088628 2549088628 724.134 < 2.2e-16 ***\n",
       "s(Terminal, 3)      1  802254341  802254341 227.901 < 2.2e-16 ***\n",
       "s(perc.alumni, 3)   1  525154274  525154274 149.184 < 2.2e-16 ***\n",
       "s(Expend, 3)        1 1022010841 1022010841 290.329 < 2.2e-16 ***\n",
       "s(Grad.Rate, 3)     1  151344060  151344060  42.993 1.014e-10 ***\n",
       "Residuals         760 2675342725    3520187                      \n",
       "---\n",
       "Signif. codes:  0 '***' 0.001 '**' 0.01 '*' 0.05 '.' 0.1 ' ' 1\n",
       "\n",
       "Anova for Nonparametric Effects\n",
       "                  Npar Df Npar F   Pr(F)    \n",
       "(Intercept)                                 \n",
       "Private                                     \n",
       "s(Room.Board, 3)        2  2.591 0.07557 .  \n",
       "s(Terminal, 3)          2  2.558 0.07815 .  \n",
       "s(perc.alumni, 3)       2  0.835 0.43446    \n",
       "s(Expend, 3)            2 56.179 < 2e-16 ***\n",
       "s(Grad.Rate, 3)         2  3.363 0.03515 *  \n",
       "---\n",
       "Signif. codes:  0 '***' 0.001 '**' 0.01 '*' 0.05 '.' 0.1 ' ' 1"
      ]
     },
     "metadata": {},
     "output_type": "display_data"
    }
   ],
   "source": [
    "summary(gam.fit)"
   ]
  },
  {
   "cell_type": "markdown",
   "metadata": {},
   "source": [
    "#### Anova for Nonparametric Effects test shows a strong evidence of non-linear relationship between response and Expend, and a slight strong non-linear relationship between response and Grad"
   ]
  },
  {
   "cell_type": "code",
   "execution_count": null,
   "metadata": {},
   "outputs": [],
   "source": []
  },
  {
   "cell_type": "code",
   "execution_count": null,
   "metadata": {},
   "outputs": [],
   "source": []
  },
  {
   "cell_type": "code",
   "execution_count": null,
   "metadata": {},
   "outputs": [],
   "source": []
  }
 ],
 "metadata": {
  "kernelspec": {
   "display_name": "R",
   "language": "R",
   "name": "ir"
  },
  "language_info": {
   "codemirror_mode": "r",
   "file_extension": ".r",
   "mimetype": "text/x-r-source",
   "name": "R",
   "pygments_lexer": "r",
   "version": "3.6.0"
  }
 },
 "nbformat": 4,
 "nbformat_minor": 2
}
